{
  "cells": [
    {
      "cell_type": "markdown",
      "metadata": {
        "id": "8jzoRXn31ogq"
      },
      "source": [
        "#Importing Data"
      ]
    },
    {
      "cell_type": "code",
      "execution_count": null,
      "metadata": {
        "colab": {
          "base_uri": "https://localhost:8080/"
        },
        "id": "_QVbLmsdXCH9",
        "outputId": "7eea93ba-fa14-4d83-ba2d-58884ef39db7"
      },
      "outputs": [
        {
          "output_type": "stream",
          "name": "stdout",
          "text": [
            "Requirement already satisfied: transformers in /usr/local/lib/python3.7/dist-packages (4.16.2)\n",
            "Requirement already satisfied: regex!=2019.12.17 in /usr/local/lib/python3.7/dist-packages (from transformers) (2019.12.20)\n",
            "Requirement already satisfied: packaging>=20.0 in /usr/local/lib/python3.7/dist-packages (from transformers) (21.3)\n",
            "Requirement already satisfied: importlib-metadata in /usr/local/lib/python3.7/dist-packages (from transformers) (4.10.1)\n",
            "Requirement already satisfied: tqdm>=4.27 in /usr/local/lib/python3.7/dist-packages (from transformers) (4.62.3)\n",
            "Requirement already satisfied: pyyaml>=5.1 in /usr/local/lib/python3.7/dist-packages (from transformers) (6.0)\n",
            "Requirement already satisfied: filelock in /usr/local/lib/python3.7/dist-packages (from transformers) (3.4.2)\n",
            "Requirement already satisfied: requests in /usr/local/lib/python3.7/dist-packages (from transformers) (2.23.0)\n",
            "Requirement already satisfied: tokenizers!=0.11.3,>=0.10.1 in /usr/local/lib/python3.7/dist-packages (from transformers) (0.11.4)\n",
            "Requirement already satisfied: sacremoses in /usr/local/lib/python3.7/dist-packages (from transformers) (0.0.47)\n",
            "Requirement already satisfied: huggingface-hub<1.0,>=0.1.0 in /usr/local/lib/python3.7/dist-packages (from transformers) (0.4.0)\n",
            "Requirement already satisfied: numpy>=1.17 in /usr/local/lib/python3.7/dist-packages (from transformers) (1.19.5)\n",
            "Requirement already satisfied: typing-extensions>=3.7.4.3 in /usr/local/lib/python3.7/dist-packages (from huggingface-hub<1.0,>=0.1.0->transformers) (3.10.0.2)\n",
            "Requirement already satisfied: pyparsing!=3.0.5,>=2.0.2 in /usr/local/lib/python3.7/dist-packages (from packaging>=20.0->transformers) (3.0.7)\n",
            "Requirement already satisfied: zipp>=0.5 in /usr/local/lib/python3.7/dist-packages (from importlib-metadata->transformers) (3.7.0)\n",
            "Requirement already satisfied: chardet<4,>=3.0.2 in /usr/local/lib/python3.7/dist-packages (from requests->transformers) (3.0.4)\n",
            "Requirement already satisfied: idna<3,>=2.5 in /usr/local/lib/python3.7/dist-packages (from requests->transformers) (2.10)\n",
            "Requirement already satisfied: certifi>=2017.4.17 in /usr/local/lib/python3.7/dist-packages (from requests->transformers) (2021.10.8)\n",
            "Requirement already satisfied: urllib3!=1.25.0,!=1.25.1,<1.26,>=1.21.1 in /usr/local/lib/python3.7/dist-packages (from requests->transformers) (1.24.3)\n",
            "Requirement already satisfied: joblib in /usr/local/lib/python3.7/dist-packages (from sacremoses->transformers) (1.1.0)\n",
            "Requirement already satisfied: click in /usr/local/lib/python3.7/dist-packages (from sacremoses->transformers) (7.1.2)\n",
            "Requirement already satisfied: six in /usr/local/lib/python3.7/dist-packages (from sacremoses->transformers) (1.15.0)\n"
          ]
        }
      ],
      "source": [
        "!pip install transformers\n",
        "import os\n",
        "os.environ['CUDA_LAUNCH_BLOCKING'] = \"1\"\n",
        "\n"
      ]
    },
    {
      "cell_type": "code",
      "execution_count": null,
      "metadata": {
        "id": "ROuYgZxugXhX"
      },
      "outputs": [],
      "source": [
        "from sklearn.model_selection import train_test_split\n",
        "from sklearn.metrics import accuracy_score,precision_score,recall_score,f1_score,confusion_matrix,ConfusionMatrixDisplay\n",
        "from sklearn.metrics import confusion_matrix\n",
        "from sklearn.metrics import accuracy_score\n",
        "from sklearn.metrics import classification_report\n",
        "from sklearn.preprocessing import StandardScaler    \n",
        "from sklearn.model_selection import train_test_split\n",
        "from sklearn.metrics import confusion_matrix, classification_report\n",
        "import torch\n",
        "import numpy as np\n",
        "import pandas as pd\n",
        "from transformers import BertTokenizer\n",
        "from torch import nn\n",
        "from transformers import BertModel\n",
        "import nltk\n",
        "from torch.optim.lr_scheduler import ReduceLROnPlateau\n",
        "import string\n",
        "import matplotlib.pyplot as plt\n",
        "%matplotlib inline\n",
        "from nltk.tokenize import word_tokenize\n",
        "from nltk.corpus import stopwords, wordnet\n",
        "from nltk.stem import WordNetLemmatizer\n",
        "from torch.optim import Adam\n",
        "from tqdm import tqdm"
      ]
    },
    {
      "cell_type": "markdown",
      "metadata": {
        "id": "YKwrH0Aw_t0t"
      },
      "source": [
        "#Download nltk"
      ]
    },
    {
      "cell_type": "code",
      "execution_count": null,
      "metadata": {
        "colab": {
          "base_uri": "https://localhost:8080/"
        },
        "id": "3Ag20JAs_tav",
        "outputId": "ea031b31-62eb-461d-f35c-eb3b9ed294cc"
      },
      "outputs": [
        {
          "output_type": "stream",
          "name": "stdout",
          "text": [
            "[nltk_data] Downloading package stopwords to /root/nltk_data...\n",
            "[nltk_data]   Package stopwords is already up-to-date!\n",
            "[nltk_data] Downloading package punkt to /root/nltk_data...\n",
            "[nltk_data]   Package punkt is already up-to-date!\n",
            "[nltk_data] Downloading package averaged_perceptron_tagger to\n",
            "[nltk_data]     /root/nltk_data...\n",
            "[nltk_data]   Package averaged_perceptron_tagger is already up-to-\n",
            "[nltk_data]       date!\n",
            "[nltk_data] Downloading package wordnet to /root/nltk_data...\n",
            "[nltk_data]   Package wordnet is already up-to-date!\n"
          ]
        },
        {
          "output_type": "execute_result",
          "data": {
            "text/plain": [
              "True"
            ]
          },
          "metadata": {},
          "execution_count": 4
        }
      ],
      "source": [
        "nltk.download('stopwords')\n",
        "nltk.download('punkt')\n",
        "nltk.download('averaged_perceptron_tagger')\n",
        "nltk.download('wordnet')"
      ]
    },
    {
      "cell_type": "markdown",
      "metadata": {
        "id": "mjStAMfj__fu"
      },
      "source": [
        "#Splitting , Balancing and  Preprocessing"
      ]
    },
    {
      "cell_type": "code",
      "execution_count": null,
      "metadata": {
        "id": "SeIsPoUN__Ou"
      },
      "outputs": [],
      "source": [
        "data = pd.read_csv('../input/imdb-dataset-of-50k-movie-reviews/IMDB Dataset.csv')\n",
        "\n",
        "\n",
        "training_data_review=data\n",
        "\n",
        "training_data_review['tokenized'] = training_data_review['review'].apply(word_tokenize)\n",
        "\n",
        "training_data_review['review_lowercase']=training_data_review['tokenized'].apply(lambda x : [word.lower() for word in x])\n",
        "punc = string.punctuation\n",
        "training_data_review['no_punc']=training_data_review['review_lowercase'].apply(lambda x: [word for word in x if word not in punc])\n",
        "stop_words = set(stopwords.words('english'))\n",
        "training_data_review['stopwords_removed'] = training_data_review['no_punc'].apply(lambda x: [word for word in x if word not in stop_words])\n",
        "training_data_review.head()\n",
        "training_data_review['pos_tags'] = training_data_review['stopwords_removed'].apply(nltk.tag.pos_tag)\n",
        "\n",
        "def get_wordnet_pos(tag):\n",
        "    if tag.startswith('J'):\n",
        "        return wordnet.ADJ\n",
        "    elif tag.startswith('V'):\n",
        "        return wordnet.VERB\n",
        "    elif tag.startswith('N'):\n",
        "        return wordnet.NOUN\n",
        "    elif tag.startswith('R'):\n",
        "        return wordnet.ADV\n",
        "    else:\n",
        "        return wordnet.NOUN\n",
        "\n",
        "\n",
        "training_data_review['wordnet_pos'] = training_data_review['pos_tags'].apply(lambda x: [(word, get_wordnet_pos(pos_tag)) for (word, pos_tag) in x])\n",
        "wnl = WordNetLemmatizer()\n",
        "training_data_review['lemmatized'] = training_data_review['wordnet_pos'].apply(lambda x: [wnl.lemmatize(word, tag) for word, tag in x])\n"
      ]
    },
    {
      "cell_type": "code",
      "execution_count": null,
      "metadata": {
        "id": "5XJ625oY7oZG"
      },
      "outputs": [],
      "source": [
        "training_data_review['lemmatized']=training_data_review['lemmatized'].apply(lambda x:(\" \".join(x)))\n",
        "\n",
        "\n",
        "x_train, x_test,y_train,y_test = train_test_split(np.array(training_data_review['lemmatized']),np.array(training_data_review['sentiment']), test_size=0.2, random_state=70)\n",
        "x_train2,x_valid,y_train2,y_valid = train_test_split(x_train,y_train,test_size=0.125,random_state=70)\n",
        "#####IFCORRECT balance data\n",
        "training_data_review2=pd.DataFrame(x_train2.reshape(-1,1),columns=['review'])\n",
        "training_data_review2['sentiment']=pd.DataFrame(y_train2.reshape(-1,1))\n",
        "\n",
        "validation_data_review=pd.DataFrame(x_valid.reshape(-1,1),columns=[\"review\"])\n",
        "validation_data_review['sentiment']=pd.DataFrame(y_valid.reshape(-1,1))\n",
        "\n",
        "testing_data_review1=pd.DataFrame(x_test.reshape(-1,1),columns=[\"review\"])\n",
        "testing_data_review1['sentiment']=pd.DataFrame(y_test.reshape(-1,1))\n"
      ]
    },
    {
      "cell_type": "code",
      "execution_count": null,
      "metadata": {
        "id": "0IRxUG0NJp_A",
        "colab": {
          "base_uri": "https://localhost:8080/"
        },
        "outputId": "f860f733-b42d-4472-ec17-4eb79eebfbd7"
      },
      "outputs": [
        {
          "output_type": "execute_result",
          "data": {
            "text/plain": [
              "100"
            ]
          },
          "metadata": {},
          "execution_count": 7
        }
      ],
      "source": [
        "import gc\n",
        "del data\n",
        "del training_data_review\n",
        "gc.collect()"
      ]
    },
    {
      "cell_type": "markdown",
      "metadata": {
        "id": "l1A5uAVu19ih"
      },
      "source": [
        "# Create Dataset Class"
      ]
    },
    {
      "cell_type": "code",
      "execution_count": null,
      "metadata": {
        "id": "sK1fxaBejiGB"
      },
      "outputs": [],
      "source": [
        "labels={'negative':0,'positive':1}\n",
        "class Dataset(torch.utils.data.Dataset):\n",
        "\n",
        "    def __init__(self, df):\n",
        "        tokenizer = BertTokenizer.from_pretrained('bert-base-cased')\n",
        "        self.labels = [labels[label] for label in df['sentiment']] #Extract the labels from the dataframe\n",
        "        self.texts = [tokenizer(text, \n",
        "                               padding='max_length', max_length = 512, truncation=True,\n",
        "                                return_tensors=\"pt\") for text in df['review']]#Tokenize the reviews \n",
        "\n",
        "    def classes(self):\n",
        "        return self.labels #Return the labels\n",
        " \n",
        "    def __len__(self):\n",
        "        return len(self.labels)#Return the number of labels\n",
        "\n",
        "    def get_batch_labels(self, idx):\n",
        "        # Fetch a batch of labels\n",
        "        return np.array(self.labels[idx])\n",
        "\n",
        "    def get_batch_texts(self, idx):\n",
        "        # Fetch a batch of inputs\n",
        "        return self.texts[idx]\n",
        "\n",
        "    def __getitem__(self, idx):\n",
        "\n",
        "        batch_texts = self.get_batch_texts(idx)#Return a batch of labels\n",
        "        batch_y = self.get_batch_labels(idx)#Return a batch of reviews\n",
        "\n",
        "        return batch_texts, batch_y"
      ]
    },
    {
      "cell_type": "markdown",
      "metadata": {
        "id": "a12Mog6q2CS6"
      },
      "source": [
        "#Create the Neural Network"
      ]
    },
    {
      "cell_type": "code",
      "execution_count": null,
      "metadata": {
        "id": "vF2wZ7yCjiIQ"
      },
      "outputs": [],
      "source": [
        "class BertClassifier(nn.Module):\n",
        "\n",
        "    def __init__(self, dropout=0.1):\n",
        "\n",
        "        super(BertClassifier, self).__init__()\n",
        "\n",
        "        self.bert = BertModel.from_pretrained('bert-base-cased')\n",
        "        self.dropout = nn.Dropout(p=dropout,inplace=False) #Required for regularization to reduce overfitting and is used to avoid overfitting by zeroing some elements from input tensors\n",
        "        self.linear_in = nn.Linear(768, 512)\n",
        "        self.relu=nn.ReLU()\n",
        "        self.linear_1 =nn.Linear(512, 256)\n",
        "        self.relu_1 = nn.ReLU()\n",
        "        self.linear_2 =nn.Linear(256, 128)\n",
        "        self.relu_2 = nn.ReLU()\n",
        "        self.linear_3 =nn.Linear(128, 64)\n",
        "        self.relu_3 = nn.ReLU()\n",
        "        self.linear_4 =nn.Linear(64,1)\n",
        "        \n",
        "\n",
        "    def forward(self, input_id, mask): \n",
        "\n",
        "        _, pooled_output = self.bert(input_ids= input_id, attention_mask=mask,return_dict=False) #pooled_output contains the CLS embedding\n",
        "        dropout_output = self.dropout(pooled_output)#Dropout to avoid overfitting\n",
        "        dropout_output =self.relu (self.linear_in(dropout_output))\n",
        "        dropout_output =self.relu_1 (self.linear_1(dropout_output))\n",
        "        dropout_output =self.relu_2 (self.linear_2(dropout_output))\n",
        "        dropout_output =self.relu_3 (self.linear_3(dropout_output))\n",
        "        dropout_output = (self.linear_4(dropout_output))\n",
        "\n",
        "        return dropout_output"
      ]
    },
    {
      "cell_type": "code",
      "source": [
        "def calculate_accuracy(y_test,y_predicted):\n",
        "  predicted_label=torch.round(torch.sigmoid(y_predicted))\n",
        "\n",
        "  no_correct_samples=(predicted_label==y_test).sum().float()\n",
        "\n",
        "  return no_correct_samples"
      ],
      "metadata": {
        "id": "zAEjHjwr7C2T"
      },
      "execution_count": null,
      "outputs": []
    },
    {
      "cell_type": "markdown",
      "metadata": {
        "id": "z9RJipQc2GfC"
      },
      "source": [
        "#Train The Model"
      ]
    },
    {
      "cell_type": "code",
      "execution_count": null,
      "metadata": {
        "id": "9Ic6Ge6_jiK_",
        "colab": {
          "base_uri": "https://localhost:8080/"
        },
        "outputId": "c382be67-f563-4ba0-b6bc-9fcd18b1ee6d"
      },
      "outputs": [
        {
          "output_type": "stream",
          "name": "stderr",
          "text": [
            "Some weights of the model checkpoint at bert-base-cased were not used when initializing BertModel: ['cls.seq_relationship.weight', 'cls.predictions.transform.dense.weight', 'cls.seq_relationship.bias', 'cls.predictions.decoder.weight', 'cls.predictions.transform.dense.bias', 'cls.predictions.bias', 'cls.predictions.transform.LayerNorm.weight', 'cls.predictions.transform.LayerNorm.bias']\n",
            "- This IS expected if you are initializing BertModel from the checkpoint of a model trained on another task or with another architecture (e.g. initializing a BertForSequenceClassification model from a BertForPreTraining model).\n",
            "- This IS NOT expected if you are initializing BertModel from the checkpoint of a model that you expect to be exactly identical (initializing a BertForSequenceClassification model from a BertForSequenceClassification model).\n",
            "100%|██████████| 500/500 [01:27<00:00,  5.70it/s]\n"
          ]
        },
        {
          "output_type": "stream",
          "name": "stdout",
          "text": [
            "Epochs: 1 | Train Loss:  0.694                 | Train Accuracy:  0.478                 | Val Loss:  0.694                 | Val Accuracy:  0.455\n",
            "1e-05\n"
          ]
        },
        {
          "output_type": "stream",
          "name": "stderr",
          "text": [
            "100%|██████████| 500/500 [01:28<00:00,  5.62it/s]\n"
          ]
        },
        {
          "output_type": "stream",
          "name": "stdout",
          "text": [
            "Epochs: 2 | Train Loss:  0.693                 | Train Accuracy:  0.516                 | Val Loss:  0.694                 | Val Accuracy:  0.455\n",
            "1e-05\n"
          ]
        },
        {
          "output_type": "stream",
          "name": "stderr",
          "text": [
            "100%|██████████| 500/500 [01:36<00:00,  5.17it/s]\n"
          ]
        },
        {
          "output_type": "stream",
          "name": "stdout",
          "text": [
            "Epochs: 3 | Train Loss:  0.693                 | Train Accuracy:  0.516                 | Val Loss:  0.695                 | Val Accuracy:  0.455\n",
            "1.0000000000000002e-06\n"
          ]
        },
        {
          "output_type": "stream",
          "name": "stderr",
          "text": [
            "100%|██████████| 500/500 [01:30<00:00,  5.55it/s]\n"
          ]
        },
        {
          "output_type": "stream",
          "name": "stdout",
          "text": [
            "Epochs: 4 | Train Loss:  0.692                 | Train Accuracy:  0.516                 | Val Loss:  0.692                 | Val Accuracy:  0.455\n",
            "1.0000000000000002e-06\n"
          ]
        },
        {
          "output_type": "stream",
          "name": "stderr",
          "text": [
            "100%|██████████| 500/500 [01:30<00:00,  5.54it/s]\n"
          ]
        },
        {
          "output_type": "stream",
          "name": "stdout",
          "text": [
            "Epochs: 5 | Train Loss:  0.683                 | Train Accuracy:  0.650                 | Val Loss:  0.680                 | Val Accuracy:  0.710\n",
            "1.0000000000000002e-06\n"
          ]
        }
      ],
      "source": [
        "\n",
        "\n",
        "def train(model, train_data, val_data, learning_rate, epochs,processed):\n",
        "\n",
        "    train, val = Dataset(train_data), Dataset(val_data) #Extracts the text and label from the given data\n",
        "\n",
        "    train_dataloader = torch.utils.data.DataLoader(train, batch_size=1, shuffle=True)#While training a model,pass samples in “minibatches”, reshuffle the data at every epoch to reduce model overfitting\n",
        "    val_dataloader = torch.utils.data.DataLoader(val, batch_size=1)\n",
        "\n",
        "    use_cuda = torch.cuda.is_available()\n",
        "    device = torch.device(\"cuda\" if use_cuda else \"cpu\")\n",
        "\n",
        "    criterion = nn.BCEWithLogitsLoss()\n",
        "    optimizer = Adam(model.parameters(), lr= learning_rate)\n",
        "    scheduler = torch.optim.lr_scheduler.ReduceLROnPlateau(optimizer, 'min', patience = 1)\n",
        "    \n",
        "    if use_cuda:\n",
        "      model = model.cuda()\n",
        "      criterion = criterion.cuda()\n",
        "\n",
        "    min_loss=100000000000\n",
        "    current_loss=0\n",
        "    for epoch_num in range(epochs):\n",
        "\n",
        "            total_acc_train = 0\n",
        "            total_loss_train = 0\n",
        "\n",
        "            for train_input, train_label in tqdm(train_dataloader):\n",
        "\n",
        "                train_label = train_label.to(torch.float32)\n",
        "                train_label=train_label.to(device)\n",
        "                mask = train_input['attention_mask'].to(device)\n",
        "                input_id = train_input['input_ids'].squeeze(1).to(device)\n",
        "\n",
        "                output = model(input_id, mask)\n",
        "                \n",
        "                \n",
        "                batch_loss = criterion(output, train_label.unsqueeze(1))\n",
        "                total_loss_train += batch_loss.item()#Extract the loss as a float and add it to the total loss\n",
        "                \n",
        "               \n",
        "                acc = calculate_accuracy(train_label,output)\n",
        "               \n",
        "                total_acc_train += acc\n",
        "\n",
        "                model.zero_grad()#zero out the accumulted gradients\n",
        "                batch_loss.backward()#Update weights and Biases\n",
        "                optimizer.step()#Perform a single optimization step\n",
        "            \n",
        "            total_acc_val = 0\n",
        "            total_loss_val = 0\n",
        "\n",
        "            with torch.no_grad():# Disable gradient calculation.\n",
        "            #Model is being validated so there is no need to calculate gradients. It will reduce memory consumption for computations that would otherwise have requires_grad=True.\n",
        "\n",
        "                for val_input, val_label in val_dataloader:\n",
        "                    val_label=val_label.to(torch.float32)\n",
        "                    val_label = val_label.to(device)\n",
        "                    mask = val_input['attention_mask'].to(device)\n",
        "                    input_id = val_input['input_ids'].squeeze(1).to(device)\n",
        "\n",
        "                    output = model(input_id, mask)\n",
        "                    \n",
        "                    \n",
        "                    batch_loss = criterion(output, val_label.unsqueeze(1))\n",
        "                    total_loss_val += batch_loss.item()\n",
        "                    \n",
        "                    \n",
        "                    acc = calculate_accuracy(val_label,output)\n",
        "                    \n",
        "                    total_acc_val += acc\n",
        "\n",
        "            current_loss=total_loss_val#Calculate the total validation loss.\n",
        "            scheduler.step(current_loss)\n",
        "            if(current_loss<min_loss): \n",
        "                min_loss=current_loss\n",
        "                if(processed==1):\n",
        "                  PATH='model.pt'\n",
        "                elif(processed==0):\n",
        "                  PATH='model_up.pt'\n",
        "                torch.save({\n",
        "                  'epoch': epoch_num,\n",
        "                  'model_state_dict': model.state_dict(),\n",
        "                  'optimizer_state_dict': optimizer.state_dict(),\n",
        "                  'loss': min_loss,\n",
        "                  }, PATH)\n",
        "                \n",
        "\n",
        "            print(\n",
        "                f'Epochs: {epoch_num + 1} | Train Loss: {total_loss_train / len(train_data): .3f} \\\n",
        "                | Train Accuracy: {total_acc_train / len(train_data): .3f} \\\n",
        "                | Val Loss: {total_loss_val / len(val_data): .3f} \\\n",
        "                | Val Accuracy: {total_acc_val / len(val_data): .3f}')\n",
        "            \n",
        "            for param_group in optimizer.param_groups:\n",
        "              print(param_group['lr'])\n",
        "            gc.collect()\n",
        "            \n",
        "                  \n",
        "EPOCHS = 5\n",
        "model = BertClassifier()\n",
        "LR = 1e-5\n",
        "processed=1\n",
        "\n",
        "\n",
        "train(model, training_data_review2.iloc[0:5000,:], validation_data_review.iloc[0:2000,:], LR, EPOCHS,processed)"
      ]
    },
    {
      "cell_type": "markdown",
      "metadata": {
        "id": "KKynQvLI2Jdh"
      },
      "source": [
        "#Evaluate The Model On Test Data"
      ]
    },
    {
      "cell_type": "code",
      "execution_count": null,
      "metadata": {
        "id": "MbxxX3oXu0_O",
        "colab": {
          "base_uri": "https://localhost:8080/",
          "height": 646
        },
        "outputId": "bba806f5-8adf-4871-bef9-06df35d43db8"
      },
      "outputs": [
        {
          "output_type": "stream",
          "name": "stderr",
          "text": [
            "/usr/local/lib/python3.7/dist-packages/pandas/core/generic.py:6619: SettingWithCopyWarning: \n",
            "A value is trying to be set on a copy of a slice from a DataFrame\n",
            "\n",
            "See the caveats in the documentation: https://pandas.pydata.org/pandas-docs/stable/user_guide/indexing.html#returning-a-view-versus-a-copy\n",
            "  return self._update_inplace(result)\n"
          ]
        },
        {
          "output_type": "stream",
          "name": "stdout",
          "text": [
            "              precision    recall  f1-score   support\n",
            "\n",
            "    negative       0.47      1.00      0.64        95\n",
            "    positive       0.00      0.00      0.00       105\n",
            "\n",
            "    accuracy                           0.48       200\n",
            "   macro avg       0.24      0.50      0.32       200\n",
            "weighted avg       0.23      0.47      0.31       200\n",
            "\n"
          ]
        },
        {
          "output_type": "stream",
          "name": "stderr",
          "text": [
            "/usr/local/lib/python3.7/dist-packages/sklearn/metrics/_classification.py:1318: UndefinedMetricWarning: Precision and F-score are ill-defined and being set to 0.0 in labels with no predicted samples. Use `zero_division` parameter to control this behavior.\n",
            "  _warn_prf(average, modifier, msg_start, len(result))\n",
            "/usr/local/lib/python3.7/dist-packages/sklearn/metrics/_classification.py:1318: UndefinedMetricWarning: Precision and F-score are ill-defined and being set to 0.0 in labels with no predicted samples. Use `zero_division` parameter to control this behavior.\n",
            "  _warn_prf(average, modifier, msg_start, len(result))\n",
            "/usr/local/lib/python3.7/dist-packages/sklearn/metrics/_classification.py:1318: UndefinedMetricWarning: Precision and F-score are ill-defined and being set to 0.0 in labels with no predicted samples. Use `zero_division` parameter to control this behavior.\n",
            "  _warn_prf(average, modifier, msg_start, len(result))\n"
          ]
        },
        {
          "output_type": "display_data",
          "data": {
            "image/png": "[encoded data removed]",
            "text/plain": [
              "<Figure size 432x288 with 2 Axes>"
            ]
          },
          "metadata": {
            "needs_background": "light"
          }
        }
      ],
      "source": [
        "def evaluate(model, test_data):\n",
        "\n",
        "    test = Dataset(test_data)\n",
        "\n",
        "    test_dataloader = torch.utils.data.DataLoader(test, batch_size=1)\n",
        "\n",
        "    use_cuda = torch.cuda.is_available()\n",
        "    device = torch.device(\"cuda\" if use_cuda else \"cpu\")\n",
        "\n",
        "    if use_cuda:\n",
        "      model = model.cuda()\n",
        "\n",
        "    total_acc_test = 0\n",
        "    y_pred = []\n",
        "    y_pred=torch.tensor(y_pred)\n",
        "    y_pred=y_pred.to(device)\n",
        "    with torch.no_grad():\n",
        "\n",
        "        for test_input, test_label in test_dataloader:\n",
        "\n",
        "              test_label = test_label.to(device)\n",
        "              mask = test_input['attention_mask'].to(device)\n",
        "              input_id = test_input['input_ids'].squeeze(1).to(device)\n",
        "\n",
        "              output = model(input_id, mask)\n",
        "              y_pred=torch.cat((y_pred,output))\n",
        "              output=(output>0.5).float()\n",
        "              acc = (output == test_label).sum()\n",
        "              \n",
        "              total_acc_test += acc\n",
        "        \n",
        "      \n",
        "        \n",
        "        test_data['sentiment'].replace({'positive':1,'negative':0},inplace=True)\n",
        "        y_test=test_data['sentiment'].to_numpy()\n",
        "        y_pred=torch.flatten(y_pred)\n",
        "        y_pred=y_pred.detach().cpu().numpy()\n",
        "        y_pred=np.where(y_pred > 0.5, 1, 0)\n",
        "        classes=['negative','positive']\n",
        "        \n",
        "        \n",
        "        net_classification_report=classification_report(y_test,y_pred,target_names=classes)    \n",
        "        print(net_classification_report)\n",
        "        conf_mat=confusion_matrix(y_test,y_pred)\n",
        "\n",
        "        \n",
        "        disp=ConfusionMatrixDisplay(confusion_matrix=conf_mat,display_labels=classes)\n",
        "        disp.plot()\n",
        "        plt.show()\n",
        "\n",
        "        gc.collect()\n",
        "    \n",
        "\n",
        "#Load Best Model\n",
        "PATH='model.pt'\n",
        "checkpoint = torch.load(PATH)\n",
        "model.load_state_dict(checkpoint['model_state_dict'])\n",
        "#optimizer.load_state_dict(checkpoint['optimizer_state_dict'])\n",
        "epoch = checkpoint['epoch']\n",
        "loss = checkpoint['loss']\n",
        "#print the best model parameters\n",
        "\n",
        "\n",
        "\n",
        "\n",
        "\n",
        "evaluate(model, testing_data_review1.iloc[0:2000,:])"
      ]
    },
    {
      "cell_type": "markdown",
      "source": [
        "# Unpreprocessed Data"
      ],
      "metadata": {
        "id": "SY8Sj64qe3Vm"
      }
    },
    {
      "cell_type": "code",
      "source": [
        "gc.collect()\n",
        "data = pd.read_csv('../input/imdb-dataset-of-50k-movie-reviews/IMDB Dataset.csv')\n",
        "x_train_up, x_test_up,y_train_up,y_test_up = train_test_split(np.array(data.iloc[:,:-1]),np.array(data['sentiment']), test_size=0.2, random_state=70)\n",
        "x_train2_up,x_valid_up,y_train2_up,y_valid_up = train_test_split(x_train_up,y_train_up,test_size=0.125,random_state=70)\n",
        "\n",
        "x_train2_up=pd.DataFrame(x_train2_up.reshape(-1,1),columns=['review'])\n",
        "x_train2_up['sentiment']=pd.DataFrame(y_train2_up.reshape(-1,1))\n",
        "\n",
        "x_valid_up=pd.DataFrame(x_valid_up.reshape(-1,1),columns=['review'])\n",
        "x_valid_up['sentiment']=pd.DataFrame(y_valid_up.reshape(-1,1))\n",
        "\n",
        "x_test_up=pd.DataFrame(x_test_up.reshape(-1,1),columns=['review'])\n",
        "x_test_up['sentiment']=pd.DataFrame(y_test_up.reshape(-1,1))\n"
      ],
      "metadata": {
        "id": "78eBdxWre2s6"
      },
      "execution_count": null,
      "outputs": []
    },
    {
      "cell_type": "code",
      "source": [
        "\n",
        "EPOCHS = 5\n",
        "model_up = BertClassifier()\n",
        "LR = 1e-5\n",
        "processed=0\n",
        "\n",
        "train(model_up, x_train2_up.iloc[:5000,:], x_valid_up.iloc[:2000,:], LR, EPOCHS,processed)"
      ],
      "metadata": {
        "id": "T2Lcyo5se2vV",
        "colab": {
          "base_uri": "https://localhost:8080/"
        },
        "outputId": "73b2849e-3595-44b2-f09a-4ac471f8d1a6"
      },
      "execution_count": null,
      "outputs": [
        {
          "output_type": "stream",
          "name": "stderr",
          "text": [
            "Some weights of the model checkpoint at bert-base-cased were not used when initializing BertModel: ['cls.seq_relationship.weight', 'cls.predictions.transform.dense.weight', 'cls.seq_relationship.bias', 'cls.predictions.decoder.weight', 'cls.predictions.transform.dense.bias', 'cls.predictions.bias', 'cls.predictions.transform.LayerNorm.weight', 'cls.predictions.transform.LayerNorm.bias']\n",
            "- This IS expected if you are initializing BertModel from the checkpoint of a model trained on another task or with another architecture (e.g. initializing a BertForSequenceClassification model from a BertForPreTraining model).\n",
            "- This IS NOT expected if you are initializing BertModel from the checkpoint of a model that you expect to be exactly identical (initializing a BertForSequenceClassification model from a BertForSequenceClassification model).\n",
            "100%|██████████| 500/500 [01:33<00:00,  5.34it/s]\n"
          ]
        },
        {
          "output_type": "stream",
          "name": "stdout",
          "text": [
            "Epochs: 1 | Train Loss:  0.684                 | Train Accuracy:  0.572                 | Val Loss:  0.646                 | Val Accuracy:  0.730\n",
            "1e-05\n"
          ]
        },
        {
          "output_type": "stream",
          "name": "stderr",
          "text": [
            "100%|██████████| 500/500 [01:31<00:00,  5.44it/s]\n"
          ]
        },
        {
          "output_type": "stream",
          "name": "stdout",
          "text": [
            "Epochs: 2 | Train Loss:  0.561                 | Train Accuracy:  0.786                 | Val Loss:  0.493                 | Val Accuracy:  0.810\n",
            "1e-05\n"
          ]
        },
        {
          "output_type": "stream",
          "name": "stderr",
          "text": [
            "100%|██████████| 500/500 [01:31<00:00,  5.46it/s]\n"
          ]
        },
        {
          "output_type": "stream",
          "name": "stdout",
          "text": [
            "Epochs: 3 | Train Loss:  0.397                 | Train Accuracy:  0.840                 | Val Loss:  0.521                 | Val Accuracy:  0.790\n",
            "1e-05\n"
          ]
        },
        {
          "output_type": "stream",
          "name": "stderr",
          "text": [
            "100%|██████████| 500/500 [01:32<00:00,  5.39it/s]\n"
          ]
        },
        {
          "output_type": "stream",
          "name": "stdout",
          "text": [
            "Epochs: 4 | Train Loss:  0.258                 | Train Accuracy:  0.924                 | Val Loss:  0.597                 | Val Accuracy:  0.770\n",
            "1.0000000000000002e-06\n"
          ]
        },
        {
          "output_type": "stream",
          "name": "stderr",
          "text": [
            "100%|██████████| 500/500 [01:31<00:00,  5.44it/s]\n"
          ]
        },
        {
          "output_type": "stream",
          "name": "stdout",
          "text": [
            "Epochs: 5 | Train Loss:  0.201                 | Train Accuracy:  0.946                 | Val Loss:  0.567                 | Val Accuracy:  0.795\n",
            "1.0000000000000002e-06\n"
          ]
        }
      ]
    },
    {
      "cell_type": "code",
      "source": [
        "#Load Best Model\n",
        "PATH='model_up.pt'\n",
        "checkpoint = torch.load(PATH)\n",
        "model_up.load_state_dict(checkpoint['model_state_dict'])\n",
        "#optimizer.load_state_dict(checkpoint['optimizer_state_dict'])\n",
        "epoch = checkpoint['epoch']\n",
        "loss = checkpoint['loss']\n",
        "#print the best model parameters\n",
        "\n",
        "evaluate(model_up, x_test_up.iloc[:2000,:])"
      ],
      "metadata": {
        "id": "xPPF6qa3e2xo",
        "colab": {
          "base_uri": "https://localhost:8080/",
          "height": 522
        },
        "outputId": "8663dfcd-cd39-4010-86ba-a44f7c287a3a"
      },
      "execution_count": null,
      "outputs": [
        {
          "output_type": "stream",
          "name": "stderr",
          "text": [
            "/usr/local/lib/python3.7/dist-packages/pandas/core/generic.py:6619: SettingWithCopyWarning: \n",
            "A value is trying to be set on a copy of a slice from a DataFrame\n",
            "\n",
            "See the caveats in the documentation: https://pandas.pydata.org/pandas-docs/stable/user_guide/indexing.html#returning-a-view-versus-a-copy\n",
            "  return self._update_inplace(result)\n"
          ]
        },
        {
          "output_type": "stream",
          "name": "stdout",
          "text": [
            "              precision    recall  f1-score   support\n",
            "\n",
            "    negative       0.83      0.83      0.83        95\n",
            "    positive       0.85      0.85      0.85       105\n",
            "\n",
            "    accuracy                           0.84       200\n",
            "   macro avg       0.84      0.84      0.84       200\n",
            "weighted avg       0.84      0.84      0.84       200\n",
            "\n"
          ]
        },
        {
          "output_type": "display_data",
          "data": {
            "image/png": "[encoded data removed]",
            "text/plain": [
              "<Figure size 432x288 with 2 Axes>"
            ]
          },
          "metadata": {
            "needs_background": "light"
          }
        }
      ]
    }
  ],
  "metadata": {
    "colab": {
      "collapsed_sections": [],
      "name": "Assignment 4.ipynb",
      "provenance": []
    },
    "kernelspec": {
      "display_name": "Python 3",
      "name": "python3"
    },
    "language_info": {
      "name": "python"
    },
    "accelerator": "GPU"
  },
  "nbformat": 4,
  "nbformat_minor": 0
}